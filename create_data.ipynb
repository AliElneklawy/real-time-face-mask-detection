{
 "cells": [
  {
   "cell_type": "code",
   "execution_count": 1,
   "metadata": {},
   "outputs": [],
   "source": [
    "import matplotlib.pyplot as plt\n",
    "import numpy as np\n",
    "import random\n",
    "import pickle\n",
    "import cv2\n",
    "import os"
   ]
  },
  {
   "cell_type": "code",
   "execution_count": 2,
   "metadata": {},
   "outputs": [],
   "source": [
    "IMG_WIDTH, IMG_HEIGHT = 224, 224\n",
    "training_data = []\n",
    "dir = 'im/'\n",
    "folders = ['with_mask', 'without_mask']"
   ]
  },
  {
   "cell_type": "code",
   "execution_count": 3,
   "metadata": {},
   "outputs": [],
   "source": [
    "def create_data(verbose=1):\n",
    "    for folder in folders:\n",
    "        path = os.path.join(dir, folder)\n",
    "        im_class = folders.index(folder)\n",
    "        \n",
    "        for i, img in enumerate(os.listdir(path)):\n",
    "            try:\n",
    "                im_arr = cv2.imread(os.path.join(path, img))\n",
    "                im_arr = cv2.resize(im_arr, (IMG_WIDTH, IMG_HEIGHT))\n",
    "            except:\n",
    "                break\n",
    "            training_data.append([im_arr, im_class])\n",
    "            if verbose and (i % 100 == 0): \n",
    "                print(f'Image {i+1} done.')"
   ]
  },
  {
   "cell_type": "code",
   "execution_count": 4,
   "metadata": {},
   "outputs": [
    {
     "name": "stdout",
     "output_type": "stream",
     "text": [
      "Image 1 done.\n",
      "Image 101 done.\n",
      "Image 201 done.\n",
      "Image 301 done.\n",
      "Image 401 done.\n",
      "Image 501 done.\n",
      "Image 601 done.\n",
      "Image 1 done.\n",
      "Image 101 done.\n",
      "Image 201 done.\n",
      "Image 301 done.\n",
      "Image 401 done.\n",
      "Image 501 done.\n",
      "Image 601 done.\n",
      "Image 701 done.\n",
      "Image 801 done.\n",
      "Image 901 done.\n",
      "Image 1001 done.\n",
      "Image 1101 done.\n",
      "Image 1201 done.\n",
      "Image 1301 done.\n",
      "Image 1401 done.\n",
      "Image 1501 done.\n",
      "Image 1601 done.\n",
      "Image 1701 done.\n",
      "Image 1801 done.\n",
      "Image 1901 done.\n"
     ]
    }
   ],
   "source": [
    "create_data()"
   ]
  },
  {
   "cell_type": "code",
   "execution_count": 5,
   "metadata": {},
   "outputs": [
    {
     "data": {
      "text/plain": [
       "2578"
      ]
     },
     "execution_count": 5,
     "metadata": {},
     "output_type": "execute_result"
    }
   ],
   "source": [
    "len(training_data)"
   ]
  },
  {
   "cell_type": "code",
   "execution_count": 6,
   "metadata": {},
   "outputs": [],
   "source": [
    "random.shuffle(training_data)"
   ]
  },
  {
   "cell_type": "code",
   "execution_count": 8,
   "metadata": {},
   "outputs": [],
   "source": [
    "X, y = [], []\n",
    "\n",
    "for im, label in training_data:\n",
    "    X.append(im)\n",
    "    y.append(label)"
   ]
  },
  {
   "cell_type": "code",
   "execution_count": 9,
   "metadata": {},
   "outputs": [],
   "source": [
    "X = np.array(X).reshape(-1, IMG_WIDTH, IMG_HEIGHT, 3)\n",
    "y = np.array(y)\n",
    "X = X / 255.0"
   ]
  },
  {
   "cell_type": "code",
   "execution_count": null,
   "metadata": {},
   "outputs": [],
   "source": [
    "\"\"\" hdf5_file = \"training_data.h5\"\n",
    "\n",
    "with h5py.File(hdf5_file, \"w\") as f:\n",
    "    f.create_dataset(\"X\", data=X)\n",
    "    f.create_dataset(\"y\", data=y) \"\"\""
   ]
  },
  {
   "cell_type": "code",
   "execution_count": 10,
   "metadata": {},
   "outputs": [],
   "source": [
    "with open('images_array_tiny.pkl', 'wb') as file:\n",
    "    pickle.dump(X, file)"
   ]
  },
  {
   "cell_type": "code",
   "execution_count": 11,
   "metadata": {},
   "outputs": [],
   "source": [
    "with open('features_array_tiny.pkl', 'wb') as file:\n",
    "    pickle.dump(y, file)"
   ]
  },
  {
   "cell_type": "code",
   "execution_count": 12,
   "metadata": {},
   "outputs": [
    {
     "data": {
      "text/plain": [
       "42121"
      ]
     },
     "execution_count": 12,
     "metadata": {},
     "output_type": "execute_result"
    }
   ],
   "source": [
    "del X\n",
    "del y\n",
    "del training_data\n",
    "import gc\n",
    "gc.collect()"
   ]
  }
 ],
 "metadata": {
  "kernelspec": {
   "display_name": "Python 3",
   "language": "python",
   "name": "python3"
  },
  "language_info": {
   "codemirror_mode": {
    "name": "ipython",
    "version": 3
   },
   "file_extension": ".py",
   "mimetype": "text/x-python",
   "name": "python",
   "nbconvert_exporter": "python",
   "pygments_lexer": "ipython3",
   "version": "3.11.5"
  }
 },
 "nbformat": 4,
 "nbformat_minor": 2
}
